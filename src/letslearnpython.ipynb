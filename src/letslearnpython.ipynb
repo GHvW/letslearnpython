{
 "cells": [
  {
   "cell_type": "code",
   "execution_count": null,
   "metadata": {},
   "outputs": [],
   "source": [
    "import pandas as pd"
   ]
  },
  {
   "cell_type": "code",
   "execution_count": null,
   "metadata": {},
   "outputs": [],
   "source": [
    "data = pd.read_csv(\"C:\\\\Users\\\\ghvw\\\\projects\\\\datasets\\\\Marvel_Comics.csv\")"
   ]
  },
  {
   "cell_type": "code",
   "execution_count": null,
   "metadata": {},
   "outputs": [],
   "source": [
    "#data.sample(5)\n",
    "#data.shape # (records, columns)\n",
    "data.head()\n",
    "\n",
    "# multiple accessors\n",
    "#data.penciler\n",
    "#data[\"penciler\"]\n",
    "#data[\"penciler\"][0]"
   ]
  },
  {
   "cell_type": "code",
   "execution_count": null,
   "metadata": {},
   "outputs": [],
   "source": [
    "data.groupby(\"penciler\").penciler"
   ]
  }
 ],
 "metadata": {
  "interpreter": {
   "hash": "d798887819b5c5bff22cd854a4a6e1e4ba335d417c75aca762db2e15163f668a"
  },
  "kernelspec": {
   "display_name": "Python 3.8.8 64-bit ('base': conda)",
   "name": "python3"
  },
  "language_info": {
   "codemirror_mode": {
    "name": "ipython",
    "version": 3
   },
   "file_extension": ".py",
   "mimetype": "text/x-python",
   "name": "python",
   "nbconvert_exporter": "python",
   "pygments_lexer": "ipython3",
   "version": "3.8.8"
  },
  "orig_nbformat": 4
 },
 "nbformat": 4,
 "nbformat_minor": 2
}
